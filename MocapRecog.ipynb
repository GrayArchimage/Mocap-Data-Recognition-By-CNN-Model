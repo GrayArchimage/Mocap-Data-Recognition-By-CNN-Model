{
  "nbformat": 4,
  "nbformat_minor": 0,
  "metadata": {
    "colab": {
      "name": "MocapRecog.ipynb",
      "provenance": [],
      "collapsed_sections": []
    },
    "kernelspec": {
      "name": "python3",
      "display_name": "Python 3"
    },
    "language_info": {
      "name": "python"
    }
  },
  "cells": [
    {
      "cell_type": "code",
      "execution_count": null,
      "metadata": {
        "id": "ZQfBY2UvwKin"
      },
      "outputs": [],
      "source": [
        "# pre solve data in /MocapRecog/SkeletalData\n",
        "\n",
        "\n",
        "import natsort\n",
        "import os\n",
        "\n",
        "dir_loc = \"./MocapRecog/SkeletalData\"\n",
        "all_bvh = os.listdir(dir_loc)\n",
        "bvh_paths = natsort.natsorted(all_bvh)\n",
        "\n",
        "for bvh_path in bvh_paths:\n",
        "  if os.path.splitext(bvh_path)[-1][1:] != \"bvh\":\n",
        "    continue\n",
        "\n",
        "  os.system(\"bvh-converter ./MocapRecog/SkeletalData/\" + bvh_path)"
      ]
    },
    {
      "cell_type": "code",
      "source": [
        "# get world pos by from csv\n",
        "\n",
        "import numpy\n",
        "import natsort\n",
        "import os\n",
        "import pandas as pd\n",
        "import math\n",
        "import matplotlib.pyplot as plt\n",
        "\n",
        "def fillByRepeat(array, maxNum):\n",
        "  if len(array) > maxNum:\n",
        "    return array[:maxNum]\n",
        "\n",
        "  tempArray = []\n",
        "  for i in range(math.ceil(maxNum / len(array))):\n",
        "    tempArray.extend(array)\n",
        "\n",
        "  return tempArray[:maxNum]\n",
        "\n",
        "def writeDisDataFrame(pd_reader, path, maxFrame):\n",
        "  disData = {\"pelvisDis\" : [], \"leftHandDis\" : [], \"rightHandDis\" : [], \"twoHandDis\" : []}\n",
        "\n",
        "  for index in range(len(pd_reader['Time'])):\n",
        "    lhPos = [pd_reader['LeftHand.X'][index], pd_reader['LeftHand.Y'][index], pd_reader['LeftHand.Z'][index]]\n",
        "    rhPos = [pd_reader['RightHand.X'][index], pd_reader['RightHand.Y'][index], pd_reader['RightHand.Z'][index]]\n",
        "  \n",
        "    pelvisDis = pd_reader['Hips.Y'][index]\n",
        "    leftHandDis = pd_reader['LeftHand.Y'][index]\n",
        "    rightHandDis = pd_reader['RightHand.Y'][index]\n",
        "    twoHandDis = numpy.sqrt(numpy.square(lhPos[0] - rhPos[0]) + numpy.square(lhPos[1] - rhPos[1]) + numpy.square(lhPos[1] - rhPos[1]))\n",
        "  \n",
        "    disData[\"pelvisDis\"].append(pelvisDis)\n",
        "    disData[\"leftHandDis\"].append(leftHandDis)\n",
        "    disData[\"rightHandDis\"].append(rightHandDis)\n",
        "    disData[\"twoHandDis\"].append(twoHandDis)\n",
        "\n",
        "  disData[\"pelvisDis\"] = fillByRepeat(disData[\"pelvisDis\"], maxFrame)\n",
        "  disData[\"leftHandDis\"] = fillByRepeat(disData[\"leftHandDis\"], maxFrame)\n",
        "  disData[\"rightHandDis\"] = fillByRepeat(disData[\"rightHandDis\"], maxFrame)\n",
        "  disData[\"twoHandDis\"] = fillByRepeat(disData[\"twoHandDis\"], maxFrame)\n",
        "\n",
        "  df = pd.DataFrame(disData)\n",
        "  df.to_csv(\"./MocapRecog/DisData/\" + path)\n",
        "\n",
        "bvh_loc = \"./MocapRecog/SkeletalData\"\n",
        "all_bvh = os.listdir(bvh_loc)\n",
        "bvh_paths = natsort.natsorted(all_bvh)\n",
        "\n",
        "# base on the max frame of the dataset\n",
        "maxFrame = 128 * 128\n",
        "\n",
        "finalData = []\n",
        "for bvh_path in bvh_paths:\n",
        "  if os.path.splitext(bvh_path)[-1][1:] != \"csv\":\n",
        "    continue\n",
        "\n",
        "  pd_reader = pd.read_csv(\"./MocapRecog/SkeletalData/\" + bvh_path)\n",
        "  finalData.append(writeDisDataFrame(pd_reader, bvh_path, maxFrame))"
      ],
      "metadata": {
        "id": "vq2_IoayIj4K"
      },
      "execution_count": null,
      "outputs": []
    },
    {
      "cell_type": "code",
      "source": [
        "# look at the line graph\n",
        "import matplotlib.pyplot as plt\n",
        "import pandas as pd\n",
        "maxFrame = 128 * 128\n",
        "def lineGraph(disData):\n",
        "  x = range(2000)\n",
        "  plt.plot(x, disData[\"pelvisDis\"][:2000], ls='--', color='b', label='d')\n",
        "  plt.plot(x, disData[\"leftHandDis\"][:2000], ls='--', color='y', label='c')\n",
        "  plt.plot(x, disData[\"rightHandDis\"][:2000], ls='--', color='g', label='b')\n",
        "  plt.plot(x, disData[\"twoHandDis\"][:2000], ls='--', color='r', label='a')\n",
        "  plt.xlabel(\"Frame\")\n",
        "  plt.ylabel(\"Distance\")\n",
        "  plt.legend()\n",
        "  plt.show()\n",
        "\n",
        "pd_reader = pd.read_csv(\"./MocapRecog/DisData/\" + \"skl_s01_a11_r01_worldpos.csv\")\n",
        "lineGraph(pd_reader)"
      ],
      "metadata": {
        "colab": {
          "base_uri": "https://localhost:8080/",
          "height": 279
        },
        "id": "do4rhhQlFf1h",
        "outputId": "b0b28893-f449-4794-e5bb-567a5bdeede3"
      },
      "execution_count": null,
      "outputs": [
        {
          "output_type": "display_data",
          "data": {
            "text/plain": [
              "<Figure size 432x288 with 1 Axes>"
            ],
            "image/png": "[encoded data removed]"
          },
          "metadata": {
            "needs_background": "light"
          }
        }
      ]
    },
    {
      "cell_type": "code",
      "source": [
        "# data loader\n",
        "\n",
        "\n",
        "import os\n",
        "import pandas as pd\n",
        "import natsort\n",
        "import torch\n",
        "from torch import tensor\n",
        "from torch.utils.data import Dataset\n",
        "from torch.utils.data import DataLoader\n",
        "from torchvision import datasets, transforms\n",
        "from torchvision.datasets import ImageFolder\n",
        "\n",
        "import math\n",
        "\n",
        "def getWH(num):\n",
        "  width = math.ceil(math.sqrt(num))\n",
        "\n",
        "  for i in range(num):\n",
        "    if num % width == 0:\n",
        "      break\n",
        "    \n",
        "    width = width + 1\n",
        "  return width, int(num / width)\n",
        "\n",
        "def solveData(path):\n",
        "  pd_reader = pd.read_csv(path)\n",
        "  curDis = []\n",
        "\n",
        "  width = 128\n",
        "  height = 128\n",
        "\n",
        "  hArr0 = []\n",
        "  hArr1 = []\n",
        "  hArr2 = []\n",
        "  hArr3 = []\n",
        "  for h in range(height):\n",
        "    wArr0 = []\n",
        "    wArr1 = []\n",
        "    wArr2 = []\n",
        "    wArr3 = []\n",
        "    for w in range(width):\n",
        "      wArr0.append(pd_reader['pelvisDis'][h * width + w])\n",
        "      wArr1.append(pd_reader['leftHandDis'][h * width + w])\n",
        "      wArr2.append(pd_reader['rightHandDis'][h * width + w])\n",
        "      wArr3.append(pd_reader['twoHandDis'][h * width + w])\n",
        "\n",
        "    hArr0.append(wArr0)\n",
        "    hArr1.append(wArr1)\n",
        "    hArr2.append(wArr2)\n",
        "    hArr3.append(wArr3)\n",
        "        \n",
        "  curDis.append(hArr0)\n",
        "  curDis.append(hArr1)\n",
        "  curDis.append(hArr2)\n",
        "  curDis.append(hArr3)\n",
        "\n",
        "  return curDis\n",
        "\n",
        "class LoadFromFolder(Dataset):\n",
        "    def __init__(self, main_dir):\n",
        "      self.all_dis = os.listdir(main_dir)\n",
        "      self.dis_paths = natsort.natsorted(self.all_dis)\n",
        "      self.pre_symbol = ['01', '02', '03', '04', '05', '06', '07', '08', '09', '10', '11', '12']\n",
        "      self.label2Id = {'01' : 0, '02' : 1, '03' : 2, '04' : 3, '05' : 4, '06' : 5, '07' : 6, '08' : 7, '09' : 8, '10' : 9, '11' : 10, '12' : 11}\n",
        "\n",
        "      self.data = []\n",
        "      for dis_path in self.dis_paths:\n",
        "        self.data.append(solveData(main_dir + dis_path))\n",
        "\n",
        "      self.symbols = []\n",
        "      for dis_path in self.dis_paths:\n",
        "        for sym in self.pre_symbol:\n",
        "          if 'a' + sym in dis_path:\n",
        "            self.symbols.append(sym)\n",
        "            break\n",
        "\n",
        "          if \"t\" in dis_path:\n",
        "            self.symbols.append('12')\n",
        "            break\n",
        "\n",
        "      self.len = len(self.dis_paths)\n",
        "\n",
        "    def __len__(self):\n",
        "      return self.len\n",
        "\n",
        "    def __getitem__(self, idx):\n",
        "      return torch.Tensor(self.data[idx]), self.label2Id[self.symbols[idx]]"
      ],
      "metadata": {
        "id": "30T4iAvv3MDK"
      },
      "execution_count": null,
      "outputs": []
    },
    {
      "cell_type": "code",
      "source": [
        "dataset = LoadFromFolder(main_dir = \"./MocapRecog/DisData/\")\n",
        "torch.save(dataset, './MocapRecog/DataSet/dataset.pkl')"
      ],
      "metadata": {
        "id": "GDPXjsGxAMYa"
      },
      "execution_count": null,
      "outputs": []
    },
    {
      "cell_type": "code",
      "source": [
        "# load data loader\n",
        "\n",
        "import os\n",
        "import pandas as pd\n",
        "import natsort\n",
        "import torch\n",
        "from torch import tensor\n",
        "from torch.utils.data import Dataset\n",
        "from torch.utils.data import DataLoader\n",
        "from torchvision import datasets, transforms\n",
        "from torchvision.datasets import ImageFolder\n",
        "\n",
        "dataset = torch.load('./MocapRecog/DataSet/dataset.pkl')"
      ],
      "metadata": {
        "id": "FAFu692jjC8g"
      },
      "execution_count": null,
      "outputs": []
    },
    {
      "cell_type": "code",
      "source": [
        "# dataloader init\n",
        "\n",
        "dataloader = DataLoader(dataset=dataset, batch_size=5, shuffle=True)"
      ],
      "metadata": {
        "id": "CdnhBNgOFr0r"
      },
      "execution_count": null,
      "outputs": []
    },
    {
      "cell_type": "code",
      "source": [
        "# data set test\n",
        "# print(dataset.__getitem__(0))\n",
        "batch = next(iter(dataloader))\n",
        "x, y = batch\n",
        "print(\"Distance Array:\")\n",
        "print(x.shape)\n",
        "print()\n",
        "print(\"Label:\")\n",
        "print(y.shape)\n",
        "print(y)"
      ],
      "metadata": {
        "colab": {
          "base_uri": "https://localhost:8080/"
        },
        "id": "n72-xPPQjXMt",
        "outputId": "8b9aea64-e522-484b-8f18-c4d987f5611f"
      },
      "execution_count": null,
      "outputs": [
        {
          "output_type": "stream",
          "name": "stdout",
          "text": [
            "Distance Array:\n",
            "torch.Size([5, 4, 128, 128])\n",
            "\n",
            "Label:\n",
            "torch.Size([5])\n",
            "tensor([ 4, 10,  4,  4, 10])\n"
          ]
        }
      ]
    },
    {
      "cell_type": "code",
      "source": [
        "# CNN model\n",
        "\n",
        "import torch.nn as nn\n",
        "\n",
        "class CNN(nn.Module):\n",
        "    def __init__(self):\n",
        "        super(CNN, self).__init__()\n",
        "        self.features = nn.Sequential(\n",
        "          nn.Conv2d(4, 64, 5, 1, 2),\n",
        "          nn.ReLU(),\n",
        "          nn.MaxPool2d(kernel_size=2),\n",
        "          nn.Conv2d(64, 192, 5, 1, 2),\n",
        "          nn.ReLU(),\n",
        "          nn.MaxPool2d(kernel_size=2),\n",
        "          nn.Conv2d(192, 384, 3, 1, 2),\n",
        "          nn.ReLU(),\n",
        "          nn.MaxPool2d(kernel_size=2),\n",
        "          nn.Conv2d(384, 256, 3, 1, 2),\n",
        "          nn.ReLU(),\n",
        "          nn.MaxPool2d(kernel_size=2))\n",
        "        self.classifier = nn.Sequential(\n",
        "          nn.Linear(20736, 5),\n",
        "          nn.ReLU(),\n",
        "          nn.Linear(5, 5),\n",
        "          nn.ReLU(),\n",
        "          nn.Linear(5, 13))\n",
        "\n",
        "    def forward(self, x):\n",
        "      x = self.features(x)\n",
        "      x = x.view(x.size()[0],-1)\n",
        "      output = self.classifier(x)\n",
        "      return output"
      ],
      "metadata": {
        "id": "mHjN4lz1jpSu"
      },
      "execution_count": null,
      "outputs": []
    },
    {
      "cell_type": "code",
      "source": [
        "from torch import device\n",
        "from torch import cuda\n",
        "from torch.optim import Adam\n",
        "import os\n",
        "os.environ['CUDA_LAUNCH_BLOCKING'] = '1'\n",
        "\n",
        "dataloader = DataLoader(dataset=dataset, batch_size=5, shuffle=True)\n",
        "\n",
        "print(torch.cuda.is_available())\n",
        "print(torch.cuda.device_count())\n",
        "\n",
        "device = torch.device(\"cuda\")\n",
        "\n",
        "cnn = CNN()\n",
        "cnn = cnn.to(device)\n",
        "\n",
        "optimizer = Adam(cnn.parameters(), lr=0.001)\n",
        "\n",
        "batch = next(iter(dataloader))\n",
        "x, y = batch\n",
        "x = x.to(device)\n",
        "y = y.to(device)\n",
        "print()\n",
        "print(x.shape)\n",
        "print(y.shape)\n",
        "\n",
        "loss_func = nn.CrossEntropyLoss()\n",
        "\n",
        "output = cnn(x)\n",
        "output.to(device)\n",
        "print(y)\n",
        "loss = loss_func(output, y)\n",
        "\n",
        "optimizer.zero_grad()\n",
        "loss.backward()\n",
        "optimizer.step()\n",
        "\n",
        "print('loss1:', loss.item())\n",
        "\n",
        "output = cnn(x)\n",
        "output = output.to(device)\n",
        "loss = loss_func(output, y)\n",
        "loss = loss.to(device)\n",
        "print('loss2:', loss.item())"
      ],
      "metadata": {
        "colab": {
          "base_uri": "https://localhost:8080/"
        },
        "id": "7xOj3s3D_uvW",
        "outputId": "1f966084-305b-4678-88b8-292c9bb66947"
      },
      "execution_count": null,
      "outputs": [
        {
          "output_type": "stream",
          "name": "stdout",
          "text": [
            "True\n",
            "1\n",
            "tensor([11,  1,  4, 10,  3], device='cuda:0')\n",
            "loss1: 2.6640450954437256\n",
            "loss2: 2.6263880729675293\n"
          ]
        }
      ]
    },
    {
      "cell_type": "code",
      "source": [
        "train_losses = []\n",
        "valid_losses = []\n",
        "\n",
        "train_loader = DataLoader(dataset=dataset, batch_size=5, shuffle=True)\n",
        "valid_loader = DataLoader(dataset=dataset, batch_size=5, shuffle=False)\n",
        "\n",
        "for epoch in range(200):\n",
        "  train_loss = 0.0\n",
        "  valid_loss = 0.0\n",
        "  num = 0\n",
        "  for step, batch in enumerate(train_loader):\n",
        "    x, y = batch\n",
        "    x = x.to(device)\n",
        "    y = y.to(device)\n",
        "    output = cnn(x)\n",
        "    output = output.to(device)\n",
        "    loss = loss_func(output, y)\n",
        "\n",
        "    optimizer.zero_grad()\n",
        "    \n",
        "    loss = loss.to(device)\n",
        "    loss.backward()\n",
        "    \n",
        "    optimizer.step()\n",
        "    train_loss += loss.item()\n",
        "    num+=1\n",
        "\n",
        "    output.cpu()\n",
        "    x.cpu()\n",
        "    y.cpu()\n",
        "\n",
        "  train_loss /= num\n",
        "\n",
        "  num = 0\n",
        "  for step, batch in enumerate(valid_loader):\n",
        "    x, y = batch\n",
        "    x = x.to(device)\n",
        "    y = y.to(device)\n",
        "    output = cnn(x)\n",
        "    output = output.to(device)\n",
        "    loss = loss_func(output, y)\n",
        "\n",
        "    valid_loss += loss.item()\n",
        "    num+=1\n",
        "\n",
        "    output.cpu()\n",
        "    x.cpu()\n",
        "    y.cpu()\n",
        "\n",
        "  \n",
        "  valid_loss /= num\n",
        "\n",
        "  print('epoch:',epoch,' | train loss:',train_loss,' | valid loss',valid_loss)\n",
        "\n",
        "  train_losses.append(train_loss)\n",
        "  valid_losses.append(valid_loss)"
      ],
      "metadata": {
        "id": "EXJo7ftg0lg-"
      },
      "execution_count": null,
      "outputs": []
    },
    {
      "cell_type": "code",
      "source": [
        "# training loss graph\n",
        "import matplotlib.pyplot as plt\n",
        "plt.subplot(1, 1, 1)\n",
        "val_line, = plt.plot(train_losses, label='train')\n",
        "train_line, = plt.plot(valid_losses, label='valid')\n",
        "plt.legend(handles=[val_line, train_line])\n",
        "plt.xlabel('Epoch')\n",
        "plt.ylabel('loss')\n",
        "plt.grid()\n",
        "plt.title(\"CNN\")"
      ],
      "metadata": {
        "colab": {
          "base_uri": "https://localhost:8080/",
          "height": 313
        },
        "id": "5INpg-YqG0Ji",
        "outputId": "2c391102-f4cc-42f2-b00b-7d22fd477f48"
      },
      "execution_count": null,
      "outputs": [
        {
          "output_type": "execute_result",
          "data": {
            "text/plain": [
              "Text(0.5, 1.0, 'CNN')"
            ]
          },
          "metadata": {},
          "execution_count": 40
        },
        {
          "output_type": "display_data",
          "data": {
            "text/plain": [
              "<Figure size 432x288 with 1 Axes>"
            ],
            "image/png": "[encoded data removed]"
          },
          "metadata": {
            "needs_background": "light"
          }
        }
      ]
    },
    {
      "cell_type": "code",
      "source": [
        "torch.save(cnn, \"./MocapRecog/Model/CNN.pkl\")"
      ],
      "metadata": {
        "id": "7oMF5tX9VQ_D"
      },
      "execution_count": null,
      "outputs": []
    },
    {
      "cell_type": "code",
      "source": [
        "# predict\n",
        "import os\n",
        "import pandas as pd\n",
        "import natsort\n",
        "import torch\n",
        "from torch import tensor\n",
        "from torch.utils.data import Dataset\n",
        "from torch.utils.data import DataLoader\n",
        "from torchvision import datasets, transforms\n",
        "from torchvision.datasets import ImageFolder\n",
        "\n",
        "cnn = torch.load(\"./MocapRecog/Model/CNN.pkl\")"
      ],
      "metadata": {
        "id": "MXRkFxziWLio"
      },
      "execution_count": null,
      "outputs": []
    },
    {
      "cell_type": "code",
      "source": [
        "import numpy as np\n",
        "input = solveData(\"./MocapRecog/DisData/\" + \"skl_s01_a04_r05_worldpos.csv\")\n",
        "cnn.eval()\n",
        "output = cnn(torch.Tensor(input).unsqueeze(0).to(device))\n",
        "print(output.data)\n",
        "a = nn.functional.softmax(output.cpu()).detach().numpy()[0]\n",
        "predicted = np.argmax(a)\n",
        "print(predicted)"
      ],
      "metadata": {
        "colab": {
          "base_uri": "https://localhost:8080/"
        },
        "id": "LFg_k9kAeIRG",
        "outputId": "f4283bf6-1a29-46c4-8a5f-d90d4bbdc0e9"
      },
      "execution_count": null,
      "outputs": [
        {
          "output_type": "stream",
          "name": "stdout",
          "text": [
            "tensor([[-15.2971,   0.0447,   0.0481,   0.0338,   0.0371,   0.0568,   0.0393,\n",
            "           0.0561,   0.0179,   0.0384,   0.0364,   0.0533,  -1.5639]],\n",
            "       device='cuda:0')\n",
            "5\n"
          ]
        },
        {
          "output_type": "stream",
          "name": "stderr",
          "text": [
            "C:\\Users\\23002\\AppData\\Local\\Temp/ipykernel_11008/3011312619.py:6: UserWarning: Implicit dimension choice for softmax has been deprecated. Change the call to include dim=X as an argument.\n",
            "  a = nn.functional.softmax(output.cpu()).detach().numpy()[0]\n"
          ]
        }
      ]
    },
    {
      "cell_type": "code",
      "source": [
        "test_loader = DataLoader(dataset=dataset, batch_size=5, shuffle=False)\n",
        "\n",
        "def confusion_matrix(preds, labels, conf_matrix):\n",
        "  preds = torch.argmax(preds, 1)\n",
        "  for p, t in zip(preds, labels):\n",
        "    conf_matrix[p, t] += 1\n",
        "  return conf_matrix\n",
        "\n",
        "conf_matrix = torch.zeros(12, 12)\n",
        "with torch.no_grad():\n",
        "  for step, batch in enumerate(test_loader):\n",
        "    x, y = batch\n",
        "    x = x.to(device)\n",
        "    y = y.to(device)\n",
        "    out = cnn(x)\n",
        "\n",
        "    conf_matrix = confusion_matrix(out, y, conf_matrix)\n",
        "    conf_matrix = conf_matrix.cpu()"
      ],
      "metadata": {
        "id": "dF7yvHaMIn77"
      },
      "execution_count": null,
      "outputs": []
    },
    {
      "cell_type": "code",
      "source": [
        "import matplotlib.pyplot as plt\n",
        "\n",
        "Emotion=12\n",
        "labels = ['Jump', 'Jump-Jack', 'Bending', 'Punching', 'Wave-2-hands', 'Wave-Right-Hand', 'Clapping', 'Throwing', 'Sit-Down&Stand-Up', 'Sit-Down', 'Stand-Up', 'T-Pose']\n",
        " \n",
        "plt.imshow(conf_matrix, cmap=plt.cm.Blues)\n",
        " \n",
        "thresh = conf_matrix.max() / 2\n",
        "for x in range(12):\n",
        "    for y in range(12):\n",
        "        info = int(conf_matrix[y, x])\n",
        "        plt.text(x, y, info,\n",
        "                 verticalalignment='center',\n",
        "                 horizontalalignment='center',\n",
        "                 color=\"white\" if info > thresh else \"black\")\n",
        "                  \n",
        "plt.tight_layout()\n",
        "plt.yticks(range(12), labels)\n",
        "plt.xticks(range(12), labels,rotation=90)\n",
        "plt.show()\n",
        "plt.close()"
      ],
      "metadata": {
        "colab": {
          "base_uri": "https://localhost:8080/",
          "height": 386
        },
        "id": "SCf_DWdzRz6h",
        "outputId": "be4d7d9e-d5ab-490a-8abf-6dde8dc6806f"
      },
      "execution_count": null,
      "outputs": [
        {
          "output_type": "display_data",
          "data": {
            "text/plain": [
              "<Figure size 432x288 with 1 Axes>"
            ],
            "image/png": "[encoded data removed]"
          },
          "metadata": {
            "needs_background": "light"
          }
        }
      ]
    }
  ]
}